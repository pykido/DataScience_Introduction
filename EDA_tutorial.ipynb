{
  "nbformat": 4,
  "nbformat_minor": 0,
  "metadata": {
    "colab": {
      "name": "EDA tutorial.ipynb",
      "provenance": [],
      "collapsed_sections": [],
      "toc_visible": true,
      "include_colab_link": true
    },
    "kernelspec": {
      "name": "python3",
      "display_name": "Python 3"
    },
    "language_info": {
      "name": "python"
    }
  },
  "cells": [
    {
      "cell_type": "markdown",
      "metadata": {
        "id": "view-in-github",
        "colab_type": "text"
      },
      "source": [
        "<a href=\"https://colab.research.google.com/github/pykido/DataScience_Introduction/blob/main/EDA_tutorial.ipynb\" target=\"_parent\"><img src=\"https://colab.research.google.com/assets/colab-badge.svg\" alt=\"Open In Colab\"/></a>"
      ]
    },
    {
      "cell_type": "markdown",
      "metadata": {
        "id": "Ggj0MyUBs3zG"
      },
      "source": [
        "# T1. Pie Chart\n",
        "Visualizing categorical data with [pie()](https://matplotlib.org/stable/api/_as_gen/matplotlib.pyplot.pie.html\n",
        ") method\n",
        "\n",
        "## Installing Korean fonts\n",
        "구글 코랩을 통해 데이터 시각화를 할때, 한글 폰트 사용을 위해서는 먼저 폰트설치가 필요합니다.\n",
        "아래 코드를 실행 한 뒤에는 \"런타임 다시 시작\"을 해주셔야 합니다."
      ]
    },
    {
      "cell_type": "code",
      "metadata": {
        "id": "oN4V54Tms2qX"
      },
      "source": [
        "!sudo apt-get install -y fonts-nanum\n",
        "!sudo fc-cache -fv\n",
        "!rm ~/.cache/matplotlib -rf"
      ],
      "execution_count": null,
      "outputs": []
    },
    {
      "cell_type": "markdown",
      "metadata": {
        "id": "d3C-bd4vtfi3"
      },
      "source": [
        "## Basic Pie Chart\n",
        "\n",
        "labels: company names\n",
        "\n",
        "x: market share for each company"
      ]
    },
    {
      "cell_type": "code",
      "metadata": {
        "id": "ocaveeIIus4i"
      },
      "source": [
        "import matplotlib.pyplot as plt #import basic visualization module \n",
        "import numpy as np\n",
        "\n",
        "labels = ['A', 'B', 'C', 'D', 'E']\n",
        "x = np.array([50, 20, 15, 10, 5])\n",
        "plt.pie(x, labels=labels)\n",
        "plt.show()   "
      ],
      "execution_count": null,
      "outputs": []
    },
    {
      "cell_type": "markdown",
      "metadata": {
        "id": "2yEZcNnp0YZR"
      },
      "source": [
        "The fractional area of each wedge is given by x/sum(x). If sum(x) < 1, then the values of x give the fractional area directly and the array will not be normalized."
      ]
    },
    {
      "cell_type": "code",
      "metadata": {
        "id": "ARVztZtdzgf5"
      },
      "source": [
        "x2 = x * 2\n",
        "print(x2)"
      ],
      "execution_count": null,
      "outputs": []
    },
    {
      "cell_type": "code",
      "metadata": {
        "id": "bCxSOi55ukJg"
      },
      "source": [
        "plt.pie(x2, labels=labels)\n",
        "plt.show()                                    "
      ],
      "execution_count": null,
      "outputs": []
    },
    {
      "cell_type": "code",
      "metadata": {
        "id": "ZoLCuWvlul8c"
      },
      "source": [
        "x3 = np.array([0.4, 0.2, 0.1, 0.1, 0.1])\n",
        "plt.pie(x3, labels=labels)\n",
        "plt.show()  "
      ],
      "execution_count": null,
      "outputs": []
    },
    {
      "cell_type": "markdown",
      "metadata": {
        "id": "xGKkRiTX38Am"
      },
      "source": [
        "## Adding more information\n"
      ]
    },
    {
      "cell_type": "markdown",
      "metadata": {
        "id": "FM6-3N4g-oLy"
      },
      "source": [
        "### adding ratio"
      ]
    },
    {
      "cell_type": "code",
      "metadata": {
        "id": "C1IFlA5R4B34"
      },
      "source": [
        "plt.pie(x, labels=labels, shadow=True, startangle=90, autopct='%0.1f%%')\n",
        "plt.show()  "
      ],
      "execution_count": null,
      "outputs": []
    },
    {
      "cell_type": "markdown",
      "metadata": {
        "id": "FTibUGyI-G4f"
      },
      "source": [
        "### adding korean title"
      ]
    },
    {
      "cell_type": "code",
      "metadata": {
        "id": "OJtCiXd96CkH"
      },
      "source": [
        "plt.rc('font', family='NanumBarunGothic') # to use korean in the chart\n",
        "plt.pie(x, labels=labels, shadow=True, \\\n",
        "        startangle=90, autopct='%0.1f %%')\n",
        "plt.title('시장점유율')\n",
        "plt.show()  \n"
      ],
      "execution_count": null,
      "outputs": []
    },
    {
      "cell_type": "markdown",
      "metadata": {
        "id": "VUZj6-9j-jza"
      },
      "source": [
        "### adding legend"
      ]
    },
    {
      "cell_type": "code",
      "metadata": {
        "id": "Ddllyr7w-wim"
      },
      "source": [
        "plt.rc('font', family='NanumBarunGothic') # to use korean in the chart\n",
        "plt.pie(x, shadow=True, startangle=90, autopct='%0.1f %%')\n",
        "plt.title('시장점유율')\n",
        "plt.legend(labels)\n",
        "plt.show()  "
      ],
      "execution_count": null,
      "outputs": []
    },
    {
      "cell_type": "markdown",
      "metadata": {
        "id": "R9KVIApemAig"
      },
      "source": [
        "## Saving figures"
      ]
    },
    {
      "cell_type": "code",
      "metadata": {
        "id": "AGmGctbyl_ow"
      },
      "source": [
        "plt.rc('font', family='NanumBarunGothic') # to use korean in the chart\n",
        "plt.pie(x, shadow=True, startangle=90, autopct='%0.1f %%')\n",
        "plt.title('시장점유율')\n",
        "plt.legend(labels)\n",
        "plt.savefig(\"pie_chart.jpeg\")"
      ],
      "execution_count": null,
      "outputs": []
    },
    {
      "cell_type": "markdown",
      "metadata": {
        "id": "UiycBX_5zBZY"
      },
      "source": [
        "## Read csv with Pandas"
      ]
    },
    {
      "cell_type": "code",
      "metadata": {
        "id": "E9RfSmQdzQ8A"
      },
      "source": [
        "import pandas as pd\n",
        "url = 'https://raw.githubusercontent.com/mlee-pnu/IDS/main/data1.csv'\n",
        "myDF = pd.read_csv(url)\n",
        "myDF.head()"
      ],
      "execution_count": null,
      "outputs": []
    },
    {
      "cell_type": "code",
      "metadata": {
        "id": "v9DSHtug1PSA"
      },
      "source": [
        "table = pd.crosstab(index=myDF[\"group\"].values, \\\n",
        "                    colnames=[\"group\"],columns='participants')\n",
        "table.index = [\"A\",\"B\",\"C\"]\n",
        "print(table)\n"
      ],
      "execution_count": null,
      "outputs": []
    },
    {
      "cell_type": "code",
      "metadata": {
        "id": "Xe2yEPLA1YwM"
      },
      "source": [
        "table.plot.pie(y='participants', autopct='%0.1f%%')"
      ],
      "execution_count": null,
      "outputs": []
    },
    {
      "cell_type": "markdown",
      "metadata": {
        "id": "kSFjf_kbzMiZ"
      },
      "source": [
        ""
      ]
    },
    {
      "cell_type": "code",
      "metadata": {
        "id": "492kqKWJ4DVd"
      },
      "source": [
        "table.plot.bar(y='participants')\n"
      ],
      "execution_count": null,
      "outputs": []
    },
    {
      "cell_type": "markdown",
      "metadata": {
        "id": "6eOwqwPE_qJn"
      },
      "source": [
        "# T2. Bar chart"
      ]
    },
    {
      "cell_type": "markdown",
      "metadata": {
        "id": "cK8rSPwAp2p3"
      },
      "source": [
        "## Basic Bar Chart"
      ]
    },
    {
      "cell_type": "code",
      "metadata": {
        "id": "6blRqgqJp7dk"
      },
      "source": [
        "import matplotlib.pyplot as plt\n",
        "import numpy as np\n",
        "\n",
        "x = np.arange(3) # 0, 1, 2\n",
        "years = ['2017', '2018', '2019']\n",
        "values = [100, 400, 900]\n",
        "\n",
        "plt.bar(x, values)\n",
        "plt.xticks(x, years) # displaying years on x axis\n",
        "plt.show()"
      ],
      "execution_count": null,
      "outputs": []
    },
    {
      "cell_type": "code",
      "metadata": {
        "id": "yaifyU1CqKK-"
      },
      "source": [
        "plt.bar(years,values)\n",
        "plt.show()"
      ],
      "execution_count": null,
      "outputs": []
    },
    {
      "cell_type": "code",
      "metadata": {
        "id": "XlTwrZOi4u-x"
      },
      "source": [
        "import pandas as pd\n",
        "myDF = pd.DataFrame({'Year':years,\n",
        "                     'Score':values})\n",
        "myDF.head()"
      ],
      "execution_count": null,
      "outputs": []
    },
    {
      "cell_type": "code",
      "metadata": {
        "id": "W5vWl34C6JYF"
      },
      "source": [
        "myDF.plot.bar(x='Year', y='Score', rot=0)"
      ],
      "execution_count": null,
      "outputs": []
    },
    {
      "cell_type": "markdown",
      "metadata": {
        "id": "1I-KKPPnw1cJ"
      },
      "source": [
        "## Adding more information"
      ]
    },
    {
      "cell_type": "markdown",
      "metadata": {
        "id": "kRrBVvmExENg"
      },
      "source": [
        "### Rotating labels"
      ]
    },
    {
      "cell_type": "code",
      "metadata": {
        "id": "VO9zbVzwxK1g"
      },
      "source": [
        "days_in_year = [88, 225, 365, 687, 4333, 10756, 30687, 60190, 90553]\n",
        "xticks = range(len(days_in_year)); \n",
        "xlabels = ['Mercury', 'Venus', 'Earth', 'Mars', 'Jupiter', 'Saturn', 'Uranus', 'Neptune', 'Pluto'];\n",
        "plt.bar(xticks, days_in_year)\n",
        "plt.xticks(xticks, xlabels, rotation=30)\n",
        "plt.ylabel('days in a year')\n",
        "plt.show()\n"
      ],
      "execution_count": null,
      "outputs": []
    },
    {
      "cell_type": "markdown",
      "metadata": {
        "id": "xUpJLy3MzUbA"
      },
      "source": [
        "### Horizontal bar chart"
      ]
    },
    {
      "cell_type": "code",
      "metadata": {
        "id": "X1UOf40yzluf"
      },
      "source": [
        "x = np.array([\"A\", \"B\", \"C\", \"D\"])\n",
        "y = np.array([3, 8, 1, 10])\n",
        "\n",
        "plt.barh(x, y)\n",
        "plt.show()"
      ],
      "execution_count": null,
      "outputs": []
    },
    {
      "cell_type": "markdown",
      "metadata": {
        "id": "YnHJWo4xzu7P"
      },
      "source": [
        "### Adjusting bar width"
      ]
    },
    {
      "cell_type": "code",
      "metadata": {
        "id": "2ptA783mzzF_"
      },
      "source": [
        "days_in_year = [88, 225, 365, 687, 4333, 10756, 30687, 60190, 90553]\n",
        "xticks = range(len(days_in_year)); \n",
        "xlabels = ['Mercury', 'Venus', 'Earth', 'Mars', 'Jupiter', 'Saturn', 'Uranus', 'Neptune', 'Pluto'];\n",
        "plt.bar(xticks, days_in_year, width = 0.4)\n",
        "plt.xticks(xticks, xlabels, rotation=30)\n",
        "plt.ylabel('days in a year')\n",
        "plt.show()"
      ],
      "execution_count": null,
      "outputs": []
    },
    {
      "cell_type": "markdown",
      "metadata": {
        "id": "gaPo8Efq0g3W"
      },
      "source": [
        "### Adding error bars"
      ]
    },
    {
      "cell_type": "code",
      "metadata": {
        "id": "-08Gn5iO0qt_"
      },
      "source": [
        "values = [10, 13, 11, 15, 20]\n",
        "yerr = [1, 3, 0.5, 2, 4] # error bars\n",
        "plt.bar(range(len(values)), values, yerr=yerr, capsize=10)\n",
        "plt.show()"
      ],
      "execution_count": null,
      "outputs": []
    },
    {
      "cell_type": "markdown",
      "metadata": {
        "id": "m6To4LiqDNqQ"
      },
      "source": [
        "## Stacked Bar Chart"
      ]
    },
    {
      "cell_type": "code",
      "metadata": {
        "id": "GxN9twJr-q7j"
      },
      "source": [
        "import pandas as pd\n",
        "df = pd.DataFrame()\n",
        "df['Quarter'] = ['1Q','2Q','3Q','4Q']\n",
        "df['A'] = [300,100,300,250]\n",
        "df['B'] = [400,200,400,100]\n",
        "df['C'] = [250,500,200,300]\n",
        "df['D'] = [100,200,300,400]\n",
        "df.head()\n"
      ],
      "execution_count": null,
      "outputs": []
    },
    {
      "cell_type": "code",
      "metadata": {
        "id": "dJszw6_0_iKi"
      },
      "source": [
        "ax = df.plot.bar(x = 'Quarter')"
      ],
      "execution_count": null,
      "outputs": []
    },
    {
      "cell_type": "code",
      "metadata": {
        "id": "cLbbhWmk_j0l"
      },
      "source": [
        "ax = df.plot.bar(stacked = True,\\\n",
        "                 x = 'Quarter', rot=0)"
      ],
      "execution_count": null,
      "outputs": []
    },
    {
      "cell_type": "markdown",
      "metadata": {
        "id": "xQQxjNYqzIm7"
      },
      "source": [
        "# T3. Histogram"
      ]
    },
    {
      "cell_type": "markdown",
      "metadata": {
        "id": "afg_at9s0SkP"
      },
      "source": [
        "### Basic Histogram"
      ]
    },
    {
      "cell_type": "code",
      "metadata": {
        "id": "ROaAuXtD0R1w"
      },
      "source": [
        "import matplotlib.pyplot as plt\n",
        "import numpy as np\n",
        "x = np.random.normal(170, 10, 250)\n",
        "x.mean(), x.std(), x.min(), x.max()"
      ],
      "execution_count": null,
      "outputs": []
    },
    {
      "cell_type": "code",
      "metadata": {
        "id": "uNOQuvGQZSGD"
      },
      "source": [
        "x[10:20]"
      ],
      "execution_count": null,
      "outputs": []
    },
    {
      "cell_type": "code",
      "metadata": {
        "id": "LFj_4c63ZIpm"
      },
      "source": [
        "plt.hist(x)\n",
        "plt.show() "
      ],
      "execution_count": null,
      "outputs": []
    },
    {
      "cell_type": "markdown",
      "metadata": {
        "id": "3yiUPz452T5H"
      },
      "source": [
        "## Adjusting bin size"
      ]
    },
    {
      "cell_type": "code",
      "metadata": {
        "id": "krQnnqrF2eY-"
      },
      "source": [
        "n, edges, patch  = plt.hist(x, bins = 5)\n",
        "plt.show()"
      ],
      "execution_count": null,
      "outputs": []
    },
    {
      "cell_type": "code",
      "metadata": {
        "id": "O-JGmobONo1G"
      },
      "source": [
        "print(edges)\n",
        "print(np.diff(edges))\n",
        "print(patch[1])"
      ],
      "execution_count": null,
      "outputs": []
    },
    {
      "cell_type": "code",
      "metadata": {
        "id": "WwsNBpdeajz0"
      },
      "source": [
        "plt.hist(x, bins=[130,140,150,160,\n",
        "                  170,180,190,200,210])\n",
        "plt.show()"
      ],
      "execution_count": null,
      "outputs": []
    },
    {
      "cell_type": "markdown",
      "metadata": {
        "id": "1SqUy6zvKE7-"
      },
      "source": [
        "## Adjusting rage"
      ]
    },
    {
      "cell_type": "code",
      "metadata": {
        "id": "zsaLEk5cKJAX"
      },
      "source": [
        "plt.hist(x, range=(160,180),bins=10)\n",
        "plt.show()"
      ],
      "execution_count": null,
      "outputs": []
    },
    {
      "cell_type": "markdown",
      "metadata": {
        "id": "JjLFQhpUL6MW"
      },
      "source": [
        "## Two histograms in one figure"
      ]
    },
    {
      "cell_type": "code",
      "metadata": {
        "id": "eEaPhoFXMDED"
      },
      "source": [
        "a = np.random.normal(170, 10, 600)\n",
        "b = np.random.normal(160, 15, 100)\n",
        "plt.hist(a, alpha=0.5)\n",
        "plt.hist(b, alpha=0.5, density = False)\n",
        "plt.show()"
      ],
      "execution_count": null,
      "outputs": []
    },
    {
      "cell_type": "code",
      "metadata": {
        "id": "Mt5Ne6ykc90L"
      },
      "source": [
        "plt.hist(a, alpha=0.5, density = True)\n",
        "plt.hist(b, alpha=0.5, density = True)\n",
        "plt.show()"
      ],
      "execution_count": null,
      "outputs": []
    },
    {
      "cell_type": "markdown",
      "metadata": {
        "id": "wv4RUOp-__51"
      },
      "source": [
        "# T4. Box plot and Scatter plot"
      ]
    },
    {
      "cell_type": "markdown",
      "metadata": {
        "id": "bhrQaSzmQyBG"
      },
      "source": [
        "## Loading dataset from seaborn"
      ]
    },
    {
      "cell_type": "markdown",
      "metadata": {
        "id": "8JAB1NIZQLaD"
      },
      "source": [
        "[Seaborn](https://seaborn.pydata.org/) 에 있는 데이터셋을 사용해 봅시다"
      ]
    },
    {
      "cell_type": "code",
      "metadata": {
        "id": "fWecj80Nmxdz"
      },
      "source": [
        "import matplotlib.pyplot as plt #basic visualization module \n",
        "import seaborn as sns \n",
        "import numpy as np\n",
        "import pandas as pd\n",
        "\n",
        "# loading dataset\n",
        "iris = sns.load_dataset('iris')\n",
        "iris.shape"
      ],
      "execution_count": null,
      "outputs": []
    },
    {
      "cell_type": "code",
      "metadata": {
        "id": "Z1Fk9iYVP0LB"
      },
      "source": [
        "iris.head()"
      ],
      "execution_count": null,
      "outputs": []
    },
    {
      "cell_type": "markdown",
      "metadata": {
        "id": "leVKHhnPTAdz"
      },
      "source": [
        "종 별로 평균 및 표준편차 확인하기."
      ]
    },
    {
      "cell_type": "code",
      "metadata": {
        "id": "knB7q-K3SGSK"
      },
      "source": [
        "#iris.groupby('species').mean()\n",
        "iris.groupby('species').count()\n"
      ],
      "execution_count": null,
      "outputs": []
    },
    {
      "cell_type": "code",
      "metadata": {
        "id": "3NLA0svoVC55"
      },
      "source": [
        "iris.groupby('species').std()"
      ],
      "execution_count": null,
      "outputs": []
    },
    {
      "cell_type": "markdown",
      "metadata": {
        "id": "CBg0l0Mifa3B"
      },
      "source": [
        "## Box plot by matplotlib"
      ]
    },
    {
      "cell_type": "code",
      "metadata": {
        "id": "XgQ1PZ24fYcT"
      },
      "source": [
        "# make subsets\n",
        "c1 = iris[iris['species'] == 'setosa']\n",
        "c2 = iris[iris['species'] == 'versicolor']\n",
        "c3 = iris[iris['species'] == 'virginica']\n",
        "\n",
        "plt.boxplot((c1['petal_length'], c2['petal_length'],\n",
        "             c3['petal_length']))\n",
        "plt.xticks([1,2,3],['setosa', 'versicolor','virginica'])\n",
        "#plt.grid()\n",
        "plt.show()\n",
        "\n"
      ],
      "execution_count": null,
      "outputs": []
    },
    {
      "cell_type": "markdown",
      "metadata": {
        "id": "K1JLyme5nQ9V"
      },
      "source": [
        "## Box plot by Pandas"
      ]
    },
    {
      "cell_type": "code",
      "metadata": {
        "id": "_oVcueaRnWEp"
      },
      "source": [
        "boxplot = iris.boxplot(column = 'petal_length', by = 'species')"
      ],
      "execution_count": null,
      "outputs": []
    },
    {
      "cell_type": "markdown",
      "metadata": {
        "id": "CzEKN8WWqnAM"
      },
      "source": [
        "## Box plot by Seaborn"
      ]
    },
    {
      "cell_type": "code",
      "metadata": {
        "id": "dBWUtUlDqsPm"
      },
      "source": [
        "boxplot = sns.boxplot(data=iris, x='species', y='petal_length')"
      ],
      "execution_count": null,
      "outputs": []
    },
    {
      "cell_type": "markdown",
      "metadata": {
        "id": "TuFylDXbQ5Pn"
      },
      "source": [
        "## Scatter plot by matplotlib"
      ]
    },
    {
      "cell_type": "code",
      "metadata": {
        "id": "ej3Xb380Re5-"
      },
      "source": [
        "plt.plot('petal_length',  # x\n",
        "         'petal_width',  # y\n",
        "         data=iris, \n",
        "         linestyle='none', \n",
        "         marker='o', \n",
        "         markersize=5,\n",
        "         color='blue', \n",
        "         alpha=0.5)\n",
        "plt.title('Scatter Plot of iris by matplotlib', fontsize=20)\n",
        "plt.xlabel('Petal Length', fontsize=14)\n",
        "plt.ylabel('Petal Width', fontsize=14)\n",
        "plt.show()"
      ],
      "execution_count": null,
      "outputs": []
    },
    {
      "cell_type": "code",
      "metadata": {
        "id": "lhYXnBCxs3sp"
      },
      "source": [
        "plt.scatter(iris['petal_length'],iris['petal_width'])\n",
        "plt.title('Scatter Plot of iris by matplotlib', fontsize=20)\n",
        "plt.xlabel('Petal Length', fontsize=14)\n",
        "plt.ylabel('Petal Width', fontsize=14)\n",
        "plt.show()"
      ],
      "execution_count": null,
      "outputs": []
    },
    {
      "cell_type": "markdown",
      "metadata": {
        "id": "k5Gxha2qvAiY"
      },
      "source": [
        "## Scatter plot by Seaborn"
      ]
    },
    {
      "cell_type": "code",
      "metadata": {
        "id": "q48F9Te1vENi"
      },
      "source": [
        "sns.scatterplot(x='petal_length',\n",
        "                y='petal_width',\n",
        "                hue='species',\n",
        "                style='species',\n",
        "                data=iris)\n",
        "plt.show()"
      ],
      "execution_count": null,
      "outputs": []
    },
    {
      "cell_type": "markdown",
      "metadata": {
        "id": "S3lrPVVvomDJ"
      },
      "source": [
        "# T3. Time series"
      ]
    },
    {
      "cell_type": "markdown",
      "metadata": {
        "id": "N4D77zYTpBH-"
      },
      "source": [
        "Plotting time series data with Pandas [plot()](https://pandas.pydata.org/pandas-docs/stable/reference/api/pandas.DataFrame.plot.html/) method.\n",
        "\n"
      ]
    },
    {
      "cell_type": "code",
      "metadata": {
        "id": "cRsdgH76osPX"
      },
      "source": [
        "import statsmodels.api as sm\n",
        "dta = sm.datasets.co2.load_pandas().data\n",
        "dta.plot()\n",
        "plt.title(\"CO2 Levels\")\n",
        "plt.ylabel(\"Parts per million\")\n",
        "plt.show()"
      ],
      "execution_count": null,
      "outputs": []
    }
  ]
}